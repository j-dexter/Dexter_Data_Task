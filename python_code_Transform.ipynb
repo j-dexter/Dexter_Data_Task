{
 "cells": [
  {
   "cell_type": "markdown",
   "metadata": {},
   "source": [
    "# Python Code: Data Transformation (wide to long format)\n",
    "\n",
    "The code here transforms the joined SAT data that now has the ID column so that it is normalized and ready for Loading into a Normalized database\n",
    "\n",
    "**Input:** Sat_wide_format.txt\n",
    "\n",
    "**Output:** SAT_long_format.txt (Tidy Data)"
   ]
  },
  {
   "cell_type": "code",
   "execution_count": 1,
   "metadata": {},
   "outputs": [],
   "source": [
    "# Import libraries\n",
    "import pandas as pd\n",
    "import numpy as np\n",
    "import os"
   ]
  },
  {
   "cell_type": "markdown",
   "metadata": {},
   "source": [
    "### Print files in directory"
   ]
  },
  {
   "cell_type": "code",
   "execution_count": 2,
   "metadata": {
    "scrolled": true
   },
   "outputs": [
    {
     "name": "stdout",
     "output_type": "stream",
     "text": [
      "\u001b[34m-archive\u001b[m\u001b[m/                          image.png\r\n",
      "\u001b[31mSAT.txt\u001b[m\u001b[m*                           \u001b[31mlayout.xlsx\u001b[m\u001b[m*\r\n",
      "SAT_clean.txt                      mysql_code_Data_Task.sql\r\n",
      "SAT_wide_format.txt                python_code_Transform.ipynb\r\n",
      "automated_QA_Report_Example.ipynb  python_code_initial_QA.ipynb\r\n",
      "\u001b[31menrollment.txt\u001b[m\u001b[m*\r\n"
     ]
    }
   ],
   "source": [
    "ls"
   ]
  },
  {
   "cell_type": "code",
   "execution_count": 3,
   "metadata": {},
   "outputs": [
    {
     "data": {
      "text/html": [
       "<div>\n",
       "<style>\n",
       "    .dataframe thead tr:only-child th {\n",
       "        text-align: right;\n",
       "    }\n",
       "\n",
       "    .dataframe thead th {\n",
       "        text-align: left;\n",
       "    }\n",
       "\n",
       "    .dataframe tbody tr th {\n",
       "        vertical-align: top;\n",
       "    }\n",
       "</style>\n",
       "<table border=\"1\" class=\"dataframe\">\n",
       "  <thead>\n",
       "    <tr style=\"text-align: right;\">\n",
       "      <th></th>\n",
       "      <th>CO_CODE</th>\n",
       "      <th>DIST_CODE</th>\n",
       "      <th>SCH_CODE</th>\n",
       "      <th>TOTAL</th>\n",
       "      <th>MATHEMATICS</th>\n",
       "      <th>CRITICAL_READING</th>\n",
       "      <th>WRITING</th>\n",
       "      <th>SAT_1550</th>\n",
       "      <th>N_STUDENTS_SCORED</th>\n",
       "      <th>ID</th>\n",
       "    </tr>\n",
       "  </thead>\n",
       "  <tbody>\n",
       "    <tr>\n",
       "      <th>95</th>\n",
       "      <td>7</td>\n",
       "      <td>2670</td>\n",
       "      <td>5</td>\n",
       "      <td>1335</td>\n",
       "      <td>452</td>\n",
       "      <td>433</td>\n",
       "      <td>450</td>\n",
       "      <td>18.6</td>\n",
       "      <td>313</td>\n",
       "      <td>72670005</td>\n",
       "    </tr>\n",
       "    <tr>\n",
       "      <th>269</th>\n",
       "      <td>27</td>\n",
       "      <td>5660</td>\n",
       "      <td>30</td>\n",
       "      <td>1655</td>\n",
       "      <td>565</td>\n",
       "      <td>545</td>\n",
       "      <td>545</td>\n",
       "      <td>65.9</td>\n",
       "      <td>625</td>\n",
       "      <td>275660030</td>\n",
       "    </tr>\n",
       "    <tr>\n",
       "      <th>329</th>\n",
       "      <td>37</td>\n",
       "      <td>2465</td>\n",
       "      <td>50</td>\n",
       "      <td>1514</td>\n",
       "      <td>528</td>\n",
       "      <td>501</td>\n",
       "      <td>485</td>\n",
       "      <td>40.6</td>\n",
       "      <td>959</td>\n",
       "      <td>372465050</td>\n",
       "    </tr>\n",
       "    <tr>\n",
       "      <th>343</th>\n",
       "      <td>39</td>\n",
       "      <td>1320</td>\n",
       "      <td>404</td>\n",
       "      <td>1143</td>\n",
       "      <td>410</td>\n",
       "      <td>356</td>\n",
       "      <td>377</td>\n",
       "      <td>4.0</td>\n",
       "      <td>10</td>\n",
       "      <td>391320404</td>\n",
       "    </tr>\n",
       "  </tbody>\n",
       "</table>\n",
       "</div>"
      ],
      "text/plain": [
       "     CO_CODE  DIST_CODE  SCH_CODE  TOTAL  MATHEMATICS  CRITICAL_READING  \\\n",
       "95         7       2670         5   1335          452               433   \n",
       "269       27       5660        30   1655          565               545   \n",
       "329       37       2465        50   1514          528               501   \n",
       "343       39       1320       404   1143          410               356   \n",
       "\n",
       "     WRITING  SAT_1550  N_STUDENTS_SCORED         ID  \n",
       "95       450      18.6                313   72670005  \n",
       "269      545      65.9                625  275660030  \n",
       "329      485      40.6                959  372465050  \n",
       "343      377       4.0                 10  391320404  "
      ]
     },
     "execution_count": 3,
     "metadata": {},
     "output_type": "execute_result"
    }
   ],
   "source": [
    "# Import wide format SAT tab-delimited text file as dataframe\n",
    "sat_wide_df = pd.read_table('SAT_wide_format.txt', sep='\\t')\n",
    "\n",
    "# View a sample of rows from SAT dataframe to be sure data read in correctly\n",
    "sat_wide_df.sample(4)"
   ]
  },
  {
   "cell_type": "code",
   "execution_count": 4,
   "metadata": {},
   "outputs": [
    {
     "data": {
      "text/html": [
       "<div>\n",
       "<style>\n",
       "    .dataframe thead tr:only-child th {\n",
       "        text-align: right;\n",
       "    }\n",
       "\n",
       "    .dataframe thead th {\n",
       "        text-align: left;\n",
       "    }\n",
       "\n",
       "    .dataframe tbody tr th {\n",
       "        vertical-align: top;\n",
       "    }\n",
       "</style>\n",
       "<table border=\"1\" class=\"dataframe\">\n",
       "  <thead>\n",
       "    <tr style=\"text-align: right;\">\n",
       "      <th></th>\n",
       "      <th>ID</th>\n",
       "      <th>CO_CODE</th>\n",
       "      <th>TOTAL</th>\n",
       "      <th>MATHEMATICS</th>\n",
       "      <th>CRITICAL_READING</th>\n",
       "      <th>WRITING</th>\n",
       "      <th>SAT_1550</th>\n",
       "    </tr>\n",
       "  </thead>\n",
       "  <tbody>\n",
       "    <tr>\n",
       "      <th>0</th>\n",
       "      <td>10110010</td>\n",
       "      <td>1</td>\n",
       "      <td>1320</td>\n",
       "      <td>461</td>\n",
       "      <td>429</td>\n",
       "      <td>430</td>\n",
       "      <td>23.5</td>\n",
       "    </tr>\n",
       "    <tr>\n",
       "      <th>1</th>\n",
       "      <td>10120010</td>\n",
       "      <td>1</td>\n",
       "      <td>1502</td>\n",
       "      <td>515</td>\n",
       "      <td>506</td>\n",
       "      <td>481</td>\n",
       "      <td>41.7</td>\n",
       "    </tr>\n",
       "    <tr>\n",
       "      <th>2</th>\n",
       "      <td>10590025</td>\n",
       "      <td>1</td>\n",
       "      <td>1418</td>\n",
       "      <td>486</td>\n",
       "      <td>468</td>\n",
       "      <td>464</td>\n",
       "      <td>31.1</td>\n",
       "    </tr>\n",
       "    <tr>\n",
       "      <th>3</th>\n",
       "      <td>11310005</td>\n",
       "      <td>1</td>\n",
       "      <td>1479</td>\n",
       "      <td>504</td>\n",
       "      <td>490</td>\n",
       "      <td>485</td>\n",
       "      <td>37.8</td>\n",
       "    </tr>\n",
       "    <tr>\n",
       "      <th>4</th>\n",
       "      <td>11790040</td>\n",
       "      <td>1</td>\n",
       "      <td>1477</td>\n",
       "      <td>508</td>\n",
       "      <td>486</td>\n",
       "      <td>483</td>\n",
       "      <td>35.7</td>\n",
       "    </tr>\n",
       "  </tbody>\n",
       "</table>\n",
       "</div>"
      ],
      "text/plain": [
       "         ID  CO_CODE  TOTAL  MATHEMATICS  CRITICAL_READING  WRITING  SAT_1550\n",
       "0  10110010        1   1320          461               429      430      23.5\n",
       "1  10120010        1   1502          515               506      481      41.7\n",
       "2  10590025        1   1418          486               468      464      31.1\n",
       "3  11310005        1   1479          504               490      485      37.8\n",
       "4  11790040        1   1477          508               486      483      35.7"
      ]
     },
     "execution_count": 4,
     "metadata": {},
     "output_type": "execute_result"
    }
   ],
   "source": [
    "# Select columns for final tranformation of wide format to long format\n",
    "sat_wide = sat_wide_df[['ID','CO_CODE', 'TOTAL', 'MATHEMATICS', \n",
    "                        'CRITICAL_READING', 'WRITING', 'SAT_1550']].copy()\n",
    "\n",
    "# Quick view of selected columns\n",
    "sat_wide.head(5)"
   ]
  },
  {
   "cell_type": "code",
   "execution_count": 5,
   "metadata": {},
   "outputs": [
    {
     "data": {
      "text/html": [
       "<div>\n",
       "<style>\n",
       "    .dataframe thead tr:only-child th {\n",
       "        text-align: right;\n",
       "    }\n",
       "\n",
       "    .dataframe thead th {\n",
       "        text-align: left;\n",
       "    }\n",
       "\n",
       "    .dataframe tbody tr th {\n",
       "        vertical-align: top;\n",
       "    }\n",
       "</style>\n",
       "<table border=\"1\" class=\"dataframe\">\n",
       "  <thead>\n",
       "    <tr style=\"text-align: right;\">\n",
       "      <th></th>\n",
       "      <th>ID</th>\n",
       "      <th>DATA_TYPE</th>\n",
       "      <th>VALUE</th>\n",
       "    </tr>\n",
       "  </thead>\n",
       "  <tbody>\n",
       "    <tr>\n",
       "      <th>760</th>\n",
       "      <td>10110010</td>\n",
       "      <td>CRITICAL_READING</td>\n",
       "      <td>429.0</td>\n",
       "    </tr>\n",
       "    <tr>\n",
       "      <th>380</th>\n",
       "      <td>10110010</td>\n",
       "      <td>MATHEMATICS</td>\n",
       "      <td>461.0</td>\n",
       "    </tr>\n",
       "    <tr>\n",
       "      <th>1520</th>\n",
       "      <td>10110010</td>\n",
       "      <td>SAT_1550</td>\n",
       "      <td>23.5</td>\n",
       "    </tr>\n",
       "    <tr>\n",
       "      <th>0</th>\n",
       "      <td>10110010</td>\n",
       "      <td>TOTAL</td>\n",
       "      <td>1320.0</td>\n",
       "    </tr>\n",
       "    <tr>\n",
       "      <th>1140</th>\n",
       "      <td>10110010</td>\n",
       "      <td>WRITING</td>\n",
       "      <td>430.0</td>\n",
       "    </tr>\n",
       "    <tr>\n",
       "      <th>761</th>\n",
       "      <td>10120010</td>\n",
       "      <td>CRITICAL_READING</td>\n",
       "      <td>506.0</td>\n",
       "    </tr>\n",
       "  </tbody>\n",
       "</table>\n",
       "</div>"
      ],
      "text/plain": [
       "            ID         DATA_TYPE   VALUE\n",
       "760   10110010  CRITICAL_READING   429.0\n",
       "380   10110010       MATHEMATICS   461.0\n",
       "1520  10110010          SAT_1550    23.5\n",
       "0     10110010             TOTAL  1320.0\n",
       "1140  10110010           WRITING   430.0\n",
       "761   10120010  CRITICAL_READING   506.0"
      ]
     },
     "execution_count": 5,
     "metadata": {},
     "output_type": "execute_result"
    }
   ],
   "source": [
    "# Unpivot the wide-format data so that it's melted into a Tidy Dataset ready for MySQL Load\n",
    "sat_long_format = sat_wide.melt(id_vars='ID',\n",
    "              value_vars=sat_wide.iloc[:,2:7], \n",
    "              var_name='DATA_TYPE',\n",
    "              value_name='VALUE')\n",
    "\n",
    "# View Tidy Data by sorting by ID and then DATA_TYPE (to match pdf handout)\n",
    "sat_long_format.sort_values(by=['ID', 'DATA_TYPE']).head(6)"
   ]
  },
  {
   "cell_type": "code",
   "execution_count": 6,
   "metadata": {
    "collapsed": true
   },
   "outputs": [],
   "source": [
    "# Export cleaned SAT data as tab delimeted text file\n",
    "sat_long_format.to_csv('SAT_long_format.txt', sep='\\t', index=False)"
   ]
  },
  {
   "cell_type": "markdown",
   "metadata": {},
   "source": [
    "## Print files in directory to be sure text file exported to project folder"
   ]
  },
  {
   "cell_type": "code",
   "execution_count": 7,
   "metadata": {},
   "outputs": [
    {
     "name": "stdout",
     "output_type": "stream",
     "text": [
      "\u001b[34m-archive\u001b[m\u001b[m/                          \u001b[31menrollment.txt\u001b[m\u001b[m*\r\n",
      "\u001b[31mSAT.txt\u001b[m\u001b[m*                           image.png\r\n",
      "SAT_clean.txt                      \u001b[31mlayout.xlsx\u001b[m\u001b[m*\r\n",
      "SAT_long_format.txt                mysql_code_Data_Task.sql\r\n",
      "SAT_wide_format.txt                python_code_Transform.ipynb\r\n",
      "automated_QA_Report_Example.ipynb  python_code_initial_QA.ipynb\r\n"
     ]
    }
   ],
   "source": [
    "ls"
   ]
  }
 ],
 "metadata": {
  "kernelspec": {
   "display_name": "Python 3",
   "language": "python",
   "name": "python3"
  },
  "language_info": {
   "codemirror_mode": {
    "name": "ipython",
    "version": 3
   },
   "file_extension": ".py",
   "mimetype": "text/x-python",
   "name": "python",
   "nbconvert_exporter": "python",
   "pygments_lexer": "ipython3",
   "version": "3.6.5"
  }
 },
 "nbformat": 4,
 "nbformat_minor": 2
}
