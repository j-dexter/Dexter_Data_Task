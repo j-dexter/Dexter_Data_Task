{
 "cells": [
  {
   "cell_type": "markdown",
   "metadata": {},
   "source": [
    "# Python Code: Quality Assurance Data Task"
   ]
  },
  {
   "cell_type": "markdown",
   "metadata": {},
   "source": [
    "The code here prepares the tab-delimited SAT.txt data so that it is ready for the steps in the Data Transformation process.\n",
    "\n",
    "**Input:** SAT.txt\n",
    "\n",
    "**Output:** SAT_clean.txt (ready for Load into MySQL for further processing e.g., join, etc.)"
   ]
  },
  {
   "cell_type": "markdown",
   "metadata": {},
   "source": [
    "# Methods for Identifying Data Integrity issues\n",
    "\n",
    "Based on the information provided and my initial inspection in Excel, these are the indicators I'm using to identify Data Integrity issues:\n",
    "- Duplicate entries (these will need removal b/c each school should be a unique record for 2013).\n",
    "- Null values in table (e.g., CODE values missing, etc.).\n",
    "- Errors with Data Entry for Test Scores (Here I use the TOTALS column as a way to sanity check things)\n",
    "- Average Test Scores are outside of the 200-800 range (range provided in layout file)."
   ]
  },
  {
   "cell_type": "markdown",
   "metadata": {},
   "source": [
    "# Description of My Process and Findings during the QA Data Task:\n",
    "1. As mentioned before, for time's sake I did my initial inspection in Microsoft Excel.\n",
    "    - This allowed me to quickly get oriented with the data and identify ways to run my QA/cleaning of the SAT data.\n",
    "2. These are the **Data Integrity issues identified**:\n",
    "    - Six duplicated entries were found and dropped.\n",
    "    - Four null values were found and dropped.\n",
    "    - Three Data Entry Errors related to Test Scores and Total columns were identified and dropped.\n",
    "    - Seven entries were found to have Test Score values outside of the range 200-800 and were dropped.   \n",
    "\n",
    "**Note:** This brought the inititial 400 SAT records down to 380 and those were then loaded into MySQL for next steps."
   ]
  },
  {
   "cell_type": "markdown",
   "metadata": {},
   "source": [
    "## Import libraries and read in SAT data"
   ]
  },
  {
   "cell_type": "code",
   "execution_count": 1,
   "metadata": {},
   "outputs": [
    {
     "name": "stdout",
     "output_type": "stream",
     "text": [
      "Current Directory:  /Users/jdexter/Desktop/dexter_data_task\n"
     ]
    }
   ],
   "source": [
    "# Import libraries\n",
    "import pandas as pd\n",
    "import numpy as np\n",
    "import os\n",
    "\n",
    "# create path to project folder\n",
    "path = r'/Users/jdexter/Desktop/dexter_data_task'\n",
    "\n",
    "# change working directory using 'path' variable and print current directory for varification\n",
    "os.chdir(path); print(\"Current Directory: \", os.getcwd())"
   ]
  },
  {
   "cell_type": "code",
   "execution_count": 2,
   "metadata": {},
   "outputs": [
    {
     "data": {
      "text/html": [
       "<div>\n",
       "<style>\n",
       "    .dataframe thead tr:only-child th {\n",
       "        text-align: right;\n",
       "    }\n",
       "\n",
       "    .dataframe thead th {\n",
       "        text-align: left;\n",
       "    }\n",
       "\n",
       "    .dataframe tbody tr th {\n",
       "        vertical-align: top;\n",
       "    }\n",
       "</style>\n",
       "<table border=\"1\" class=\"dataframe\">\n",
       "  <thead>\n",
       "    <tr style=\"text-align: right;\">\n",
       "      <th></th>\n",
       "      <th>CO_CODE</th>\n",
       "      <th>DIST_CODE</th>\n",
       "      <th>SCH_CODE</th>\n",
       "      <th>TOTAL</th>\n",
       "      <th>MATHEMATICS</th>\n",
       "      <th>CRITICAL_READING</th>\n",
       "      <th>WRITING</th>\n",
       "      <th>SAT_1550</th>\n",
       "      <th>N_STUDENTS_SCORED</th>\n",
       "    </tr>\n",
       "  </thead>\n",
       "  <tbody>\n",
       "    <tr>\n",
       "      <th>87</th>\n",
       "      <td>7</td>\n",
       "      <td>700.0</td>\n",
       "      <td>40</td>\n",
       "      <td>1168</td>\n",
       "      <td>394</td>\n",
       "      <td>391</td>\n",
       "      <td>383</td>\n",
       "      <td>3.7</td>\n",
       "      <td>799</td>\n",
       "    </tr>\n",
       "    <tr>\n",
       "      <th>187</th>\n",
       "      <td>21</td>\n",
       "      <td>2580.0</td>\n",
       "      <td>40</td>\n",
       "      <td>1528</td>\n",
       "      <td>516</td>\n",
       "      <td>508</td>\n",
       "      <td>504</td>\n",
       "      <td>44.7</td>\n",
       "      <td>716</td>\n",
       "    </tr>\n",
       "    <tr>\n",
       "      <th>65</th>\n",
       "      <td>5</td>\n",
       "      <td>2610.0</td>\n",
       "      <td>40</td>\n",
       "      <td>1547</td>\n",
       "      <td>538</td>\n",
       "      <td>507</td>\n",
       "      <td>502</td>\n",
       "      <td>47.3</td>\n",
       "      <td>488</td>\n",
       "    </tr>\n",
       "    <tr>\n",
       "      <th>344</th>\n",
       "      <td>37</td>\n",
       "      <td>4960.0</td>\n",
       "      <td>50</td>\n",
       "      <td>1582</td>\n",
       "      <td>538</td>\n",
       "      <td>524</td>\n",
       "      <td>520</td>\n",
       "      <td>53.1</td>\n",
       "      <td>608</td>\n",
       "    </tr>\n",
       "    <tr>\n",
       "      <th>377</th>\n",
       "      <td>41</td>\n",
       "      <td>1870.0</td>\n",
       "      <td>50</td>\n",
       "      <td>1513</td>\n",
       "      <td>519</td>\n",
       "      <td>498</td>\n",
       "      <td>496</td>\n",
       "      <td>44.8</td>\n",
       "      <td>306</td>\n",
       "    </tr>\n",
       "  </tbody>\n",
       "</table>\n",
       "</div>"
      ],
      "text/plain": [
       "     CO_CODE  DIST_CODE  SCH_CODE  TOTAL  MATHEMATICS  CRITICAL_READING  \\\n",
       "87         7      700.0        40   1168          394               391   \n",
       "187       21     2580.0        40   1528          516               508   \n",
       "65         5     2610.0        40   1547          538               507   \n",
       "344       37     4960.0        50   1582          538               524   \n",
       "377       41     1870.0        50   1513          519               498   \n",
       "\n",
       "     WRITING  SAT_1550  N_STUDENTS_SCORED  \n",
       "87       383       3.7                799  \n",
       "187      504      44.7                716  \n",
       "65       502      47.3                488  \n",
       "344      520      53.1                608  \n",
       "377      496      44.8                306  "
      ]
     },
     "execution_count": 2,
     "metadata": {},
     "output_type": "execute_result"
    }
   ],
   "source": [
    "# Import tab-delimited text file as dataframe (df)\n",
    "sat_df = pd.read_table('SAT.txt', sep='\\t')\n",
    "\n",
    "# View a sample of rows from SAT dataframe to be sure the data read in correctly\n",
    "sat_df.sample(5)"
   ]
  },
  {
   "cell_type": "markdown",
   "metadata": {},
   "source": [
    "## Dealing with Duplicate Entries by dropping any rows that are duplicates"
   ]
  },
  {
   "cell_type": "code",
   "execution_count": 3,
   "metadata": {},
   "outputs": [
    {
     "name": "stdout",
     "output_type": "stream",
     "text": [
      "rows, columns:  (400, 9)\n"
     ]
    }
   ],
   "source": [
    "# Get count of rows and columns to see how many records we are starting with (should be 400, 9)\n",
    "print('rows, columns: ', sat_df.shape)"
   ]
  },
  {
   "cell_type": "code",
   "execution_count": 4,
   "metadata": {},
   "outputs": [
    {
     "name": "stdout",
     "output_type": "stream",
     "text": [
      "The number of duplicated records:  6\n"
     ]
    },
    {
     "data": {
      "text/html": [
       "<div>\n",
       "<style>\n",
       "    .dataframe thead tr:only-child th {\n",
       "        text-align: right;\n",
       "    }\n",
       "\n",
       "    .dataframe thead th {\n",
       "        text-align: left;\n",
       "    }\n",
       "\n",
       "    .dataframe tbody tr th {\n",
       "        vertical-align: top;\n",
       "    }\n",
       "</style>\n",
       "<table border=\"1\" class=\"dataframe\">\n",
       "  <thead>\n",
       "    <tr style=\"text-align: right;\">\n",
       "      <th></th>\n",
       "      <th>CO_CODE</th>\n",
       "      <th>DIST_CODE</th>\n",
       "      <th>SCH_CODE</th>\n",
       "      <th>TOTAL</th>\n",
       "      <th>MATHEMATICS</th>\n",
       "      <th>CRITICAL_READING</th>\n",
       "      <th>WRITING</th>\n",
       "      <th>SAT_1550</th>\n",
       "      <th>N_STUDENTS_SCORED</th>\n",
       "    </tr>\n",
       "  </thead>\n",
       "  <tbody>\n",
       "    <tr>\n",
       "      <th>382</th>\n",
       "      <td>41</td>\n",
       "      <td>280.0</td>\n",
       "      <td>20</td>\n",
       "      <td>1527</td>\n",
       "      <td>509</td>\n",
       "      <td>510</td>\n",
       "      <td>508</td>\n",
       "      <td>46.6</td>\n",
       "      <td>381</td>\n",
       "    </tr>\n",
       "    <tr>\n",
       "      <th>383</th>\n",
       "      <td>41</td>\n",
       "      <td>1870.0</td>\n",
       "      <td>50</td>\n",
       "      <td>1513</td>\n",
       "      <td>519</td>\n",
       "      <td>498</td>\n",
       "      <td>496</td>\n",
       "      <td>44.8</td>\n",
       "      <td>306</td>\n",
       "    </tr>\n",
       "    <tr>\n",
       "      <th>384</th>\n",
       "      <td>41</td>\n",
       "      <td>3675.0</td>\n",
       "      <td>50</td>\n",
       "      <td>1502</td>\n",
       "      <td>514</td>\n",
       "      <td>503</td>\n",
       "      <td>485</td>\n",
       "      <td>44.3</td>\n",
       "      <td>282</td>\n",
       "    </tr>\n",
       "    <tr>\n",
       "      <th>385</th>\n",
       "      <td>41</td>\n",
       "      <td>4100.0</td>\n",
       "      <td>50</td>\n",
       "      <td>1543</td>\n",
       "      <td>529</td>\n",
       "      <td>513</td>\n",
       "      <td>501</td>\n",
       "      <td>44.1</td>\n",
       "      <td>782</td>\n",
       "    </tr>\n",
       "    <tr>\n",
       "      <th>386</th>\n",
       "      <td>41</td>\n",
       "      <td>5460.0</td>\n",
       "      <td>50</td>\n",
       "      <td>1365</td>\n",
       "      <td>460</td>\n",
       "      <td>458</td>\n",
       "      <td>447</td>\n",
       "      <td>25.0</td>\n",
       "      <td>585</td>\n",
       "    </tr>\n",
       "    <tr>\n",
       "      <th>387</th>\n",
       "      <td>41</td>\n",
       "      <td>5465.0</td>\n",
       "      <td>50</td>\n",
       "      <td>1517</td>\n",
       "      <td>516</td>\n",
       "      <td>505</td>\n",
       "      <td>496</td>\n",
       "      <td>46.4</td>\n",
       "      <td>61</td>\n",
       "    </tr>\n",
       "  </tbody>\n",
       "</table>\n",
       "</div>"
      ],
      "text/plain": [
       "     CO_CODE  DIST_CODE  SCH_CODE  TOTAL  MATHEMATICS  CRITICAL_READING  \\\n",
       "382       41      280.0        20   1527          509               510   \n",
       "383       41     1870.0        50   1513          519               498   \n",
       "384       41     3675.0        50   1502          514               503   \n",
       "385       41     4100.0        50   1543          529               513   \n",
       "386       41     5460.0        50   1365          460               458   \n",
       "387       41     5465.0        50   1517          516               505   \n",
       "\n",
       "     WRITING  SAT_1550  N_STUDENTS_SCORED  \n",
       "382      508      46.6                381  \n",
       "383      496      44.8                306  \n",
       "384      485      44.3                282  \n",
       "385      501      44.1                782  \n",
       "386      447      25.0                585  \n",
       "387      496      46.4                 61  "
      ]
     },
     "execution_count": 4,
     "metadata": {},
     "output_type": "execute_result"
    }
   ],
   "source": [
    "# Count number of duplicated entries\n",
    "print(\"The number of duplicated records: \", sat_df.duplicated().sum())\n",
    "\n",
    "# Show the records in the dataframe where the same exact entry showed up previously in the dataset\n",
    "sat_df.loc[sat_df.duplicated(), :]"
   ]
  },
  {
   "cell_type": "markdown",
   "metadata": {},
   "source": [
    "### Let's go ahead and drop these duplicates so they don't cause issues later (e.g., with the Load or Joins)"
   ]
  },
  {
   "cell_type": "code",
   "execution_count": 5,
   "metadata": {},
   "outputs": [
    {
     "data": {
      "text/plain": [
       "(394, 9)"
      ]
     },
     "execution_count": 5,
     "metadata": {},
     "output_type": "execute_result"
    }
   ],
   "source": [
    "# Drop duplicated entries and keep the first that appears\n",
    "sat_df.drop_duplicates(keep='first', inplace=True)\n",
    "\n",
    "# Get count of rows to double check that the 6 duplicated entries were dropped\n",
    "sat_df.shape"
   ]
  },
  {
   "cell_type": "markdown",
   "metadata": {},
   "source": [
    "## Dealing with Null values by dropping any rows that have them"
   ]
  },
  {
   "cell_type": "code",
   "execution_count": 6,
   "metadata": {},
   "outputs": [
    {
     "name": "stdout",
     "output_type": "stream",
     "text": [
      "Number of Null values in table:  4\n"
     ]
    },
    {
     "data": {
      "text/html": [
       "<div>\n",
       "<style>\n",
       "    .dataframe thead tr:only-child th {\n",
       "        text-align: right;\n",
       "    }\n",
       "\n",
       "    .dataframe thead th {\n",
       "        text-align: left;\n",
       "    }\n",
       "\n",
       "    .dataframe tbody tr th {\n",
       "        vertical-align: top;\n",
       "    }\n",
       "</style>\n",
       "<table border=\"1\" class=\"dataframe\">\n",
       "  <thead>\n",
       "    <tr style=\"text-align: right;\">\n",
       "      <th></th>\n",
       "      <th>CO_CODE</th>\n",
       "      <th>DIST_CODE</th>\n",
       "      <th>SCH_CODE</th>\n",
       "      <th>TOTAL</th>\n",
       "      <th>MATHEMATICS</th>\n",
       "      <th>CRITICAL_READING</th>\n",
       "      <th>WRITING</th>\n",
       "      <th>SAT_1550</th>\n",
       "      <th>N_STUDENTS_SCORED</th>\n",
       "    </tr>\n",
       "  </thead>\n",
       "  <tbody>\n",
       "    <tr>\n",
       "      <th>106</th>\n",
       "      <td>11</td>\n",
       "      <td>NaN</td>\n",
       "      <td>20</td>\n",
       "      <td>1199</td>\n",
       "      <td>423</td>\n",
       "      <td>386</td>\n",
       "      <td>390</td>\n",
       "      <td>5.5</td>\n",
       "      <td>361</td>\n",
       "    </tr>\n",
       "    <tr>\n",
       "      <th>107</th>\n",
       "      <td>11</td>\n",
       "      <td>NaN</td>\n",
       "      <td>30</td>\n",
       "      <td>1380</td>\n",
       "      <td>472</td>\n",
       "      <td>454</td>\n",
       "      <td>454</td>\n",
       "      <td>28.5</td>\n",
       "      <td>32</td>\n",
       "    </tr>\n",
       "    <tr>\n",
       "      <th>108</th>\n",
       "      <td>11</td>\n",
       "      <td>NaN</td>\n",
       "      <td>50</td>\n",
       "      <td>1363</td>\n",
       "      <td>464</td>\n",
       "      <td>453</td>\n",
       "      <td>446</td>\n",
       "      <td>19.4</td>\n",
       "      <td>254</td>\n",
       "    </tr>\n",
       "    <tr>\n",
       "      <th>109</th>\n",
       "      <td>11</td>\n",
       "      <td>NaN</td>\n",
       "      <td>50</td>\n",
       "      <td>1411</td>\n",
       "      <td>490</td>\n",
       "      <td>464</td>\n",
       "      <td>457</td>\n",
       "      <td>28.1</td>\n",
       "      <td>127</td>\n",
       "    </tr>\n",
       "  </tbody>\n",
       "</table>\n",
       "</div>"
      ],
      "text/plain": [
       "     CO_CODE  DIST_CODE  SCH_CODE  TOTAL  MATHEMATICS  CRITICAL_READING  \\\n",
       "106       11        NaN        20   1199          423               386   \n",
       "107       11        NaN        30   1380          472               454   \n",
       "108       11        NaN        50   1363          464               453   \n",
       "109       11        NaN        50   1411          490               464   \n",
       "\n",
       "     WRITING  SAT_1550  N_STUDENTS_SCORED  \n",
       "106      390       5.5                361  \n",
       "107      454      28.5                 32  \n",
       "108      446      19.4                254  \n",
       "109      457      28.1                127  "
      ]
     },
     "execution_count": 6,
     "metadata": {},
     "output_type": "execute_result"
    }
   ],
   "source": [
    "# A View of the SAT dataframe table info shows 4 Null values in the \n",
    "print(\"Number of Null values in table: \", sat_df.isnull().sum().sum())\n",
    "\n",
    "# View the null values\n",
    "sat_df[pd.isnull(sat_df).any(axis=1)]"
   ]
  },
  {
   "cell_type": "markdown",
   "metadata": {},
   "source": [
    "**Note:** When dealing with missing data its typically one of two things:\n",
    " \n",
    "1. Data doesn't exist (more than likely not the case here).\n",
    "2. Data wasn't recorded (more than likely what happened).\n",
    "  - If given a list of all the codes, I would create a Data Dictionary that could pull and fill CODES as necessary to complete records and avoid Data Loss.\n",
    "\n",
    " \n",
    "### There are only 4 rows of data that have null values and so let's drop them from the dataframe"
   ]
  },
  {
   "cell_type": "code",
   "execution_count": 7,
   "metadata": {},
   "outputs": [
    {
     "name": "stdout",
     "output_type": "stream",
     "text": [
      "Number of Null values left in table:  0\n"
     ]
    },
    {
     "data": {
      "text/plain": [
       "(390, 9)"
      ]
     },
     "execution_count": 7,
     "metadata": {},
     "output_type": "execute_result"
    }
   ],
   "source": [
    "# Drop na/null values \n",
    "sat_df.dropna(inplace=True)\n",
    "\n",
    "# set float to integer data type\n",
    "sat_df.DIST_CODE = sat_df.DIST_CODE.astype('int')\n",
    "\n",
    "# Check to be sure Nulls were dropped \n",
    "print(\"Number of Null values left in table: \", sat_df.isnull().sum().sum())\n",
    "\n",
    "# Get count of rows to double check that the 4 null values were dropped (count should now be 390)\n",
    "sat_df.shape"
   ]
  },
  {
   "cell_type": "markdown",
   "metadata": {},
   "source": [
    "## Dealing with Data Entry Errors for Test Scores by Dropping those where Totals don't match\n",
    "\n",
    "   - Here I'm just using simple arithmetic to check and see if the sum total of the Avg. Test Score columns are equal to the value stored in the TOTAL column for each instance/record."
   ]
  },
  {
   "cell_type": "code",
   "execution_count": 8,
   "metadata": {
    "collapsed": true
   },
   "outputs": [],
   "source": [
    "# Setup variables to simplify readability of code for TOTAL varification\n",
    "math = sat_df['MATHEMATICS']\n",
    "reading = sat_df['CRITICAL_READING']\n",
    "writing = sat_df['WRITING']"
   ]
  },
  {
   "cell_type": "code",
   "execution_count": 9,
   "metadata": {},
   "outputs": [
    {
     "data": {
      "text/html": [
       "<div>\n",
       "<style>\n",
       "    .dataframe thead tr:only-child th {\n",
       "        text-align: right;\n",
       "    }\n",
       "\n",
       "    .dataframe thead th {\n",
       "        text-align: left;\n",
       "    }\n",
       "\n",
       "    .dataframe tbody tr th {\n",
       "        vertical-align: top;\n",
       "    }\n",
       "</style>\n",
       "<table border=\"1\" class=\"dataframe\">\n",
       "  <thead>\n",
       "    <tr style=\"text-align: right;\">\n",
       "      <th></th>\n",
       "      <th>ERROR</th>\n",
       "      <th>TOTAL</th>\n",
       "      <th>NEW_TOTAL</th>\n",
       "      <th>MATHEMATICS</th>\n",
       "      <th>CRITICAL_READING</th>\n",
       "      <th>WRITING</th>\n",
       "    </tr>\n",
       "  </thead>\n",
       "  <tbody>\n",
       "    <tr>\n",
       "      <th>88</th>\n",
       "      <td>YES</td>\n",
       "      <td>1700</td>\n",
       "      <td>1734</td>\n",
       "      <td>594</td>\n",
       "      <td>566</td>\n",
       "      <td>574</td>\n",
       "    </tr>\n",
       "    <tr>\n",
       "      <th>269</th>\n",
       "      <td>YES</td>\n",
       "      <td>1410</td>\n",
       "      <td>1638</td>\n",
       "      <td>557</td>\n",
       "      <td>540</td>\n",
       "      <td>541</td>\n",
       "    </tr>\n",
       "    <tr>\n",
       "      <th>328</th>\n",
       "      <td>YES</td>\n",
       "      <td>1346</td>\n",
       "      <td>1402</td>\n",
       "      <td>490</td>\n",
       "      <td>452</td>\n",
       "      <td>460</td>\n",
       "    </tr>\n",
       "  </tbody>\n",
       "</table>\n",
       "</div>"
      ],
      "text/plain": [
       "    ERROR  TOTAL  NEW_TOTAL  MATHEMATICS  CRITICAL_READING  WRITING\n",
       "88    YES   1700       1734          594               566      574\n",
       "269   YES   1410       1638          557               540      541\n",
       "328   YES   1346       1402          490               452      460"
      ]
     },
     "execution_count": 9,
     "metadata": {},
     "output_type": "execute_result"
    }
   ],
   "source": [
    "# Add together the avg. scores from 3 columns and populate new column NEW_TOTAL.\n",
    "sat_df['NEW_TOTAL'] = math + reading + writing\n",
    "\n",
    "# Add column ERROR and use conditional statement to populate whether an error is present\n",
    "sat_df['ERROR'] = np.where(sat_df['TOTAL'] != sat_df['NEW_TOTAL'], 'YES', 'NO')\n",
    "\n",
    "# View rows that have Test Score Data Entry issues\n",
    "sat_df.loc[sat_df['TOTAL'] != sat_df['NEW_TOTAL'], \n",
    "           ['ERROR', 'TOTAL', 'NEW_TOTAL', 'MATHEMATICS', 'CRITICAL_READING', 'WRITING']]"
   ]
  },
  {
   "cell_type": "markdown",
   "metadata": {},
   "source": [
    "### Let's go ahead and drop these 3 rows with Errors so they don't end up in the clean dataset"
   ]
  },
  {
   "cell_type": "code",
   "execution_count": 10,
   "metadata": {},
   "outputs": [
    {
     "data": {
      "text/plain": [
       "(387, 9)"
      ]
     },
     "execution_count": 10,
     "metadata": {},
     "output_type": "execute_result"
    }
   ],
   "source": [
    "# Select only the records that had NO errors from 'totals' and store in dataframe\n",
    "sat_df_errors_dropped = sat_df.loc[sat_df['ERROR'] == 'NO'].copy()\n",
    "\n",
    "# Drop uneccesary columns\n",
    "sat_df_errors_dropped.drop(['ERROR', 'NEW_TOTAL'], axis=1, inplace=True)\n",
    "\n",
    "# Get count of rows to double check that the 4 null values were dropped (count should now be 387)\n",
    "sat_df_errors_dropped.shape"
   ]
  },
  {
   "cell_type": "markdown",
   "metadata": {},
   "source": [
    "### Here there are a couple of possibilities  why errors exist and it would take further investigation to resolve:\n",
    "\n",
    " 1. Someone made an error when calculating the TOTALS.\n",
    " 2. Someone simply made an error when recording data in 1 or more of the 4 columns."
   ]
  },
  {
   "cell_type": "markdown",
   "metadata": {},
   "source": [
    "## Dealing with Test Score Values that are out of Range 200-800\n",
    "\n",
    " - A close inspection revealed there are some values less than 200 but none greater than 800\n",
    "     - There were 7 of schools that had 0 scores and 0 students Scored\n",
    " - Let's go ahead and drop these records where all Test values were below 200."
   ]
  },
  {
   "cell_type": "code",
   "execution_count": 11,
   "metadata": {},
   "outputs": [
    {
     "data": {
      "text/html": [
       "<div>\n",
       "<style>\n",
       "    .dataframe thead tr:only-child th {\n",
       "        text-align: right;\n",
       "    }\n",
       "\n",
       "    .dataframe thead th {\n",
       "        text-align: left;\n",
       "    }\n",
       "\n",
       "    .dataframe tbody tr th {\n",
       "        vertical-align: top;\n",
       "    }\n",
       "</style>\n",
       "<table border=\"1\" class=\"dataframe\">\n",
       "  <thead>\n",
       "    <tr style=\"text-align: right;\">\n",
       "      <th></th>\n",
       "      <th>CO_CODE</th>\n",
       "      <th>DIST_CODE</th>\n",
       "      <th>SCH_CODE</th>\n",
       "      <th>TOTAL</th>\n",
       "      <th>MATHEMATICS</th>\n",
       "      <th>CRITICAL_READING</th>\n",
       "      <th>WRITING</th>\n",
       "      <th>SAT_1550</th>\n",
       "      <th>N_STUDENTS_SCORED</th>\n",
       "    </tr>\n",
       "  </thead>\n",
       "  <tbody>\n",
       "    <tr>\n",
       "      <th>208</th>\n",
       "      <td>23</td>\n",
       "      <td>3150</td>\n",
       "      <td>300</td>\n",
       "      <td>0</td>\n",
       "      <td>0</td>\n",
       "      <td>0</td>\n",
       "      <td>0</td>\n",
       "      <td>0.0</td>\n",
       "      <td>0</td>\n",
       "    </tr>\n",
       "    <tr>\n",
       "      <th>209</th>\n",
       "      <td>23</td>\n",
       "      <td>3150</td>\n",
       "      <td>301</td>\n",
       "      <td>0</td>\n",
       "      <td>0</td>\n",
       "      <td>0</td>\n",
       "      <td>0</td>\n",
       "      <td>0.0</td>\n",
       "      <td>0</td>\n",
       "    </tr>\n",
       "    <tr>\n",
       "      <th>305</th>\n",
       "      <td>31</td>\n",
       "      <td>4010</td>\n",
       "      <td>1</td>\n",
       "      <td>0</td>\n",
       "      <td>0</td>\n",
       "      <td>0</td>\n",
       "      <td>0</td>\n",
       "      <td>0.0</td>\n",
       "      <td>0</td>\n",
       "    </tr>\n",
       "    <tr>\n",
       "      <th>308</th>\n",
       "      <td>31</td>\n",
       "      <td>4010</td>\n",
       "      <td>4</td>\n",
       "      <td>0</td>\n",
       "      <td>0</td>\n",
       "      <td>0</td>\n",
       "      <td>0</td>\n",
       "      <td>0.0</td>\n",
       "      <td>0</td>\n",
       "    </tr>\n",
       "    <tr>\n",
       "      <th>309</th>\n",
       "      <td>31</td>\n",
       "      <td>4010</td>\n",
       "      <td>5</td>\n",
       "      <td>0</td>\n",
       "      <td>0</td>\n",
       "      <td>0</td>\n",
       "      <td>0</td>\n",
       "      <td>0.0</td>\n",
       "      <td>0</td>\n",
       "    </tr>\n",
       "    <tr>\n",
       "      <th>362</th>\n",
       "      <td>39</td>\n",
       "      <td>4160</td>\n",
       "      <td>51</td>\n",
       "      <td>0</td>\n",
       "      <td>0</td>\n",
       "      <td>0</td>\n",
       "      <td>0</td>\n",
       "      <td>0.0</td>\n",
       "      <td>0</td>\n",
       "    </tr>\n",
       "    <tr>\n",
       "      <th>398</th>\n",
       "      <td>80</td>\n",
       "      <td>8010</td>\n",
       "      <td>980</td>\n",
       "      <td>0</td>\n",
       "      <td>0</td>\n",
       "      <td>0</td>\n",
       "      <td>0</td>\n",
       "      <td>0.0</td>\n",
       "      <td>0</td>\n",
       "    </tr>\n",
       "  </tbody>\n",
       "</table>\n",
       "</div>"
      ],
      "text/plain": [
       "     CO_CODE  DIST_CODE  SCH_CODE  TOTAL  MATHEMATICS  CRITICAL_READING  \\\n",
       "208       23       3150       300      0            0                 0   \n",
       "209       23       3150       301      0            0                 0   \n",
       "305       31       4010         1      0            0                 0   \n",
       "308       31       4010         4      0            0                 0   \n",
       "309       31       4010         5      0            0                 0   \n",
       "362       39       4160        51      0            0                 0   \n",
       "398       80       8010       980      0            0                 0   \n",
       "\n",
       "     WRITING  SAT_1550  N_STUDENTS_SCORED  \n",
       "208        0       0.0                  0  \n",
       "209        0       0.0                  0  \n",
       "305        0       0.0                  0  \n",
       "308        0       0.0                  0  \n",
       "309        0       0.0                  0  \n",
       "362        0       0.0                  0  \n",
       "398        0       0.0                  0  "
      ]
     },
     "execution_count": 11,
     "metadata": {},
     "output_type": "execute_result"
    }
   ],
   "source": [
    "# Make copy of dataframe \n",
    "sat_check_range = sat_df_errors_dropped.copy()\n",
    "\n",
    "# Because we know there are a number of records with the value of zero, let's view them before dropping them \n",
    "sat_check_range.loc[sat_check_range['MATHEMATICS'] < 200]"
   ]
  },
  {
   "cell_type": "markdown",
   "metadata": {},
   "source": [
    "### Let's go ahead and drop these 7 rows where Test Score values are out of range"
   ]
  },
  {
   "cell_type": "code",
   "execution_count": 12,
   "metadata": {},
   "outputs": [
    {
     "data": {
      "text/plain": [
       "(380, 9)"
      ]
     },
     "execution_count": 12,
     "metadata": {},
     "output_type": "execute_result"
    }
   ],
   "source": [
    "# Drop rows with values below 200 and store in new dataframe\n",
    "sat_clean_df = sat_check_range.loc[sat_check_range['MATHEMATICS'] > 200].copy()\n",
    "\n",
    "# Get count of rows to double check that the 7 values that were out of range were dropped (count should now be 380)\n",
    "sat_clean_df.shape"
   ]
  },
  {
   "cell_type": "markdown",
   "metadata": {},
   "source": [
    "## Export cleaned/QA SAT dataframe with 380 records  as tab-delimeted text file"
   ]
  },
  {
   "cell_type": "code",
   "execution_count": 13,
   "metadata": {},
   "outputs": [],
   "source": [
    "# Export cleaned SAT data as tab delimeted text file\n",
    "sat_clean_df.to_csv('SAT_clean.txt', sep='\\t', index=False)"
   ]
  },
  {
   "cell_type": "code",
   "execution_count": 14,
   "metadata": {},
   "outputs": [
    {
     "name": "stdout",
     "output_type": "stream",
     "text": [
      "<class 'pandas.core.frame.DataFrame'>\n",
      "Int64Index: 380 entries, 0 to 399\n",
      "Data columns (total 9 columns):\n",
      "CO_CODE              380 non-null int64\n",
      "DIST_CODE            380 non-null int64\n",
      "SCH_CODE             380 non-null int64\n",
      "TOTAL                380 non-null int64\n",
      "MATHEMATICS          380 non-null int64\n",
      "CRITICAL_READING     380 non-null int64\n",
      "WRITING              380 non-null int64\n",
      "SAT_1550             380 non-null float64\n",
      "N_STUDENTS_SCORED    380 non-null int64\n",
      "dtypes: float64(1), int64(8)\n",
      "memory usage: 29.7 KB\n"
     ]
    }
   ],
   "source": [
    "# Take a final look using dataframe info funcitonality to be sure things are looking good\n",
    "sat_clean_df.info()"
   ]
  }
 ],
 "metadata": {
  "kernelspec": {
   "display_name": "Python 3",
   "language": "python",
   "name": "python3"
  },
  "language_info": {
   "codemirror_mode": {
    "name": "ipython",
    "version": 3
   },
   "file_extension": ".py",
   "mimetype": "text/x-python",
   "name": "python",
   "nbconvert_exporter": "python",
   "pygments_lexer": "ipython3",
   "version": "3.6.5"
  }
 },
 "nbformat": 4,
 "nbformat_minor": 2
}
